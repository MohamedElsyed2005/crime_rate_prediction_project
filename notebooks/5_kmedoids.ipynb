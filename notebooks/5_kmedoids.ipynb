{
 "cells": [
  {
   "cell_type": "code",
   "execution_count": 16,
   "id": "3bf7ff5c",
   "metadata": {},
   "outputs": [],
   "source": [
    "from sklearn_extra.cluster import KMedoids\n",
    "from sklearn.metrics import silhouette_score\n",
    "import matplotlib.pyplot as plt\n",
    "import seaborn as sns"
   ]
  },
  {
   "cell_type": "code",
   "execution_count": 17,
   "id": "bde03a18",
   "metadata": {},
   "outputs": [
    {
     "name": "stdout",
     "output_type": "stream",
     "text": [
      "          X         Y  Hour  Day     Month   Weekday  DayOfWeek_Monday  \\\n",
      "0  0.043578  0.001276   1.0  0.4  0.363636  0.333333               0.0   \n",
      "1  0.043578  0.001276   1.0  0.4  0.363636  0.333333               0.0   \n",
      "2  0.044337  0.001770   1.0  0.4  0.363636  0.333333               0.0   \n",
      "3  0.043030  0.001778   1.0  0.4  0.363636  0.333333               0.0   \n",
      "4  0.037198  0.001217   1.0  0.4  0.363636  0.333333               0.0   \n",
      "\n",
      "   DayOfWeek_Saturday  DayOfWeek_Sunday  DayOfWeek_Thursday  ...  \\\n",
      "0                 0.0               0.0                 0.0  ...   \n",
      "1                 0.0               0.0                 0.0  ...   \n",
      "2                 0.0               0.0                 0.0  ...   \n",
      "3                 0.0               0.0                 0.0  ...   \n",
      "4                 0.0               0.0                 0.0  ...   \n",
      "\n",
      "   Resolution_JUVENILE BOOKED  Resolution_JUVENILE CITED  \\\n",
      "0                         0.0                        0.0   \n",
      "1                         0.0                        0.0   \n",
      "2                         0.0                        0.0   \n",
      "3                         0.0                        0.0   \n",
      "4                         0.0                        0.0   \n",
      "\n",
      "   Resolution_JUVENILE DIVERTED  Resolution_LOCATED  Resolution_NONE  \\\n",
      "0                           0.0                 0.0              0.0   \n",
      "1                           0.0                 0.0              0.0   \n",
      "2                           0.0                 0.0              0.0   \n",
      "3                           0.0                 0.0              1.0   \n",
      "4                           0.0                 0.0              1.0   \n",
      "\n",
      "   Resolution_NOT PROSECUTED  Resolution_PROSECUTED BY OUTSIDE AGENCY  \\\n",
      "0                        0.0                                      0.0   \n",
      "1                        0.0                                      0.0   \n",
      "2                        0.0                                      0.0   \n",
      "3                        0.0                                      0.0   \n",
      "4                        0.0                                      0.0   \n",
      "\n",
      "   Resolution_PROSECUTED FOR LESSER OFFENSE  Resolution_PSYCHOPATHIC CASE  \\\n",
      "0                                       0.0                           0.0   \n",
      "1                                       0.0                           0.0   \n",
      "2                                       0.0                           0.0   \n",
      "3                                       0.0                           0.0   \n",
      "4                                       0.0                           0.0   \n",
      "\n",
      "   Resolution_UNFOUNDED  \n",
      "0                   0.0  \n",
      "1                   0.0  \n",
      "2                   0.0  \n",
      "3                   0.0  \n",
      "4                   0.0  \n",
      "\n",
      "[5 rows x 37 columns]\n"
     ]
    }
   ],
   "source": [
    "import pandas as pd\n",
    "import numpy as np\n",
    "df=pd.read_csv(r'C:\\Users\\Dell\\OneDrive\\Desktop\\final project\\crime_rate_prediction_project\\data\\preprocessed_data.csv')\n",
    "print(df.head())\n"
   ]
  },
  {
   "cell_type": "code",
   "execution_count": 21,
   "id": "a940dd4b",
   "metadata": {},
   "outputs": [
    {
     "name": "stdout",
     "output_type": "stream",
     "text": [
      "labels:  [1 0 0 ... 1 0 0]\n",
      "clusters:  [[6.49198803e-02 3.67066988e-04 4.78260870e-01 5.66666667e-01\n",
      "  2.72727273e-01 6.66666667e-01 0.00000000e+00 0.00000000e+00\n",
      "  0.00000000e+00 0.00000000e+00 0.00000000e+00 0.00000000e+00\n",
      "  0.00000000e+00 0.00000000e+00 0.00000000e+00 0.00000000e+00\n",
      "  0.00000000e+00 0.00000000e+00 0.00000000e+00 0.00000000e+00\n",
      "  0.00000000e+00 0.00000000e+00 0.00000000e+00 0.00000000e+00\n",
      "  0.00000000e+00 0.00000000e+00 0.00000000e+00 0.00000000e+00\n",
      "  0.00000000e+00 0.00000000e+00 0.00000000e+00 1.00000000e+00\n",
      "  0.00000000e+00 0.00000000e+00 0.00000000e+00 0.00000000e+00\n",
      "  0.00000000e+00]\n",
      " [4.92683933e-02 1.46826346e-03 6.08695652e-01 3.66666667e-01\n",
      "  6.36363636e-01 6.66666667e-01 0.00000000e+00 0.00000000e+00\n",
      "  0.00000000e+00 0.00000000e+00 0.00000000e+00 0.00000000e+00\n",
      "  0.00000000e+00 0.00000000e+00 0.00000000e+00 0.00000000e+00\n",
      "  0.00000000e+00 0.00000000e+00 0.00000000e+00 0.00000000e+00\n",
      "  0.00000000e+00 0.00000000e+00 0.00000000e+00 0.00000000e+00\n",
      "  0.00000000e+00 0.00000000e+00 0.00000000e+00 0.00000000e+00\n",
      "  0.00000000e+00 0.00000000e+00 0.00000000e+00 1.00000000e+00\n",
      "  0.00000000e+00 0.00000000e+00 0.00000000e+00 0.00000000e+00\n",
      "  0.00000000e+00]]\n"
     ]
    }
   ],
   "source": [
    "# خدت عينة من 10 آلاف صف بشكل عشوائي\n",
    "sample_df = df.sample(n=10000, random_state=42)\n",
    "\n",
    "# بعد كده طبّق KMedoids على العينة دي\n",
    "from sklearn_extra.cluster import KMedoids\n",
    "\n",
    "k = 2  # عدد العناقيد اللي انت عايزه\n",
    "kmedoids = KMedoids(n_clusters=k, random_state=42).fit(sample_df)\n",
    "\n",
    "# عرض النتائج\n",
    "print(\"labels: \", kmedoids.labels_)\n",
    "print(\"clusters: \", kmedoids.cluster_centers_)\n"
   ]
  },
  {
   "cell_type": "code",
   "execution_count": 22,
   "id": "f21c2684",
   "metadata": {},
   "outputs": [
    {
     "name": "stdout",
     "output_type": "stream",
     "text": [
      "Silhouette Score: 0.030193841324858244\n"
     ]
    }
   ],
   "source": [
    "score = silhouette_score(sample_df, kmedoids.labels_)\n",
    "print(\"Silhouette Score:\", score)"
   ]
  }
 ],
 "metadata": {
  "kernelspec": {
   "display_name": "Python 3",
   "language": "python",
   "name": "python3"
  },
  "language_info": {
   "codemirror_mode": {
    "name": "ipython",
    "version": 3
   },
   "file_extension": ".py",
   "mimetype": "text/x-python",
   "name": "python",
   "nbconvert_exporter": "python",
   "pygments_lexer": "ipython3",
   "version": "3.13.2"
  }
 },
 "nbformat": 4,
 "nbformat_minor": 5
}
