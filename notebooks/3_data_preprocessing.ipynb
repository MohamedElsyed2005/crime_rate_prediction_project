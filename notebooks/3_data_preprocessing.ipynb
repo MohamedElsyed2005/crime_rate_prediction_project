{
 "cells": [
  {
   "cell_type": "markdown",
   "metadata": {},
   "source": [
    "## Import and Read-Data"
   ]
  },
  {
   "cell_type": "code",
   "execution_count": 13,
   "metadata": {},
   "outputs": [],
   "source": [
    "from sklearn.preprocessing import StandardScaler\n",
    "from sklearn.preprocessing import LabelEncoder\n",
    "import numpy as np\n",
    "import pandas as pd\n",
    "import matplotlib.pyplot as plt \n",
    "import seaborn as sns"
   ]
  },
  {
   "cell_type": "code",
   "execution_count": 14,
   "metadata": {},
   "outputs": [],
   "source": [
    "df = pd.read_csv(\"../data/train.csv\")"
   ]
  },
  {
   "cell_type": "markdown",
   "metadata": {},
   "source": [
    "## Get Date-Cols From Dates Attribute"
   ]
  },
  {
   "cell_type": "code",
   "execution_count": 15,
   "metadata": {},
   "outputs": [],
   "source": [
    "df['Dates'] = pd.to_datetime(df['Dates'])\n",
    "df['Hour'] = df['Dates'].dt.hour\n",
    "df['Month'] = df['Dates'].dt.month\n",
    "df['Year'] = df['Dates'].dt.year\n",
    "df['day'] = df['Dates'].dt.day\n",
    "df['count_days'] = (df['Dates'] - df['Dates'].min()).apply(lambda x: x.days)"
   ]
  },
  {
   "cell_type": "code",
   "execution_count": 16,
   "metadata": {},
   "outputs": [
    {
     "data": {
      "text/plain": [
       "(878049, 14)"
      ]
     },
     "execution_count": 16,
     "metadata": {},
     "output_type": "execute_result"
    }
   ],
   "source": [
    "df.shape"
   ]
  },
  {
   "cell_type": "markdown",
   "metadata": {},
   "source": [
    "## Duplicates and Null's Handling"
   ]
  },
  {
   "cell_type": "code",
   "execution_count": 17,
   "metadata": {},
   "outputs": [
    {
     "data": {
      "text/plain": [
       "np.int64(2323)"
      ]
     },
     "execution_count": 17,
     "metadata": {},
     "output_type": "execute_result"
    }
   ],
   "source": [
    "df.duplicated().sum()"
   ]
  },
  {
   "cell_type": "code",
   "execution_count": 18,
   "metadata": {},
   "outputs": [],
   "source": [
    "df.drop_duplicates(inplace = True)"
   ]
  },
  {
   "cell_type": "code",
   "execution_count": 19,
   "metadata": {},
   "outputs": [
    {
     "name": "stdout",
     "output_type": "stream",
     "text": [
      "Outliers of X is = 60126\n",
      "Outliers of Y is = 67\n",
      "Outliers of Hour is = 0\n",
      "Outliers of Month is = 0\n",
      "Outliers of Year is = 0\n",
      "Outliers of day is = 0\n",
      "Outliers of count_days is = 0\n"
     ]
    }
   ],
   "source": [
    "for col in df.select_dtypes(include='number'):\n",
    "    Q1 = df[col].quantile(0.25)  \n",
    "    Q3 = df[col].quantile(0.75) \n",
    "    IQR = Q3 - Q1  \n",
    "    lower_bound = Q1 - 1.5 * IQR\n",
    "    upper_bound = Q3 + 1.5 * IQR\n",
    "    outliers = df[(df[col] < lower_bound) | (df[col] > upper_bound)]\n",
    "    print(f\"Outliers of {col} is = {len(outliers)}\")\n"
   ]
  },
  {
   "cell_type": "code",
   "execution_count": 28,
   "metadata": {},
   "outputs": [
    {
     "data": {
      "image/png": "[encoded data removed]",
      "text/plain": [
       "<Figure size 1200x600 with 6 Axes>"
      ]
     },
     "metadata": {},
     "output_type": "display_data"
    }
   ],
   "source": [
    "columns_with_outliers = [\"X\", \"Y\", \"Hour\", \"Month\", \"Year\", \"day\"]\n",
    "\n",
    "plt.figure(figsize=(12, 6))\n",
    "for i, col in enumerate(columns_with_outliers, 1):\n",
    "    plt.subplot(3, 3, i)  \n",
    "    sns.boxplot(y=df[col])\n",
    "    plt.title(col)\n",
    "plt.tight_layout()  \n",
    "plt.show()"
   ]
  },
  {
   "cell_type": "code",
   "execution_count": 21,
   "metadata": {},
   "outputs": [],
   "source": [
    "Q1_X = df['X'].quantile(0.25)\n",
    "Q3_X = df['X'].quantile(0.75)\n",
    "IQR_X = Q3_X - Q1_X\n",
    "\n",
    "Q1_Y = df['Y'].quantile(0.25)\n",
    "Q3_Y = df['Y'].quantile(0.75)\n",
    "IQR_Y = Q3_Y - Q1_Y\n",
    "\n",
    "df = df[(df['X'] >= Q1_X - 1.5 * IQR_X) & (df['X'] <= Q3_X + 1.5 * IQR_X)]\n",
    "\n",
    "df = df[(df['Y'] >= Q1_Y - 1.5 * IQR_Y) & (df['Y'] <= Q3_Y + 1.5 * IQR_Y)]"
   ]
  },
  {
   "cell_type": "markdown",
   "metadata": {},
   "source": [
    "## Scaling and Encoding"
   ]
  },
  {
   "cell_type": "code",
   "execution_count": 29,
   "metadata": {},
   "outputs": [],
   "source": [
    "numeric_cols = df.select_dtypes(include=['number']).columns\n",
    "\n",
    "scaler = StandardScaler()\n",
    "\n",
    "df[numeric_cols] = scaler.fit_transform(df[numeric_cols])\n",
    "\n",
    "category_encoder = LabelEncoder()\n",
    "district_encoder = LabelEncoder()\n",
    "\n",
    "df['Category'] = category_encoder.fit_transform(df['Category'])\n",
    "df['PdDistrict'] = district_encoder.fit_transform(df['PdDistrict'])"
   ]
  },
  {
   "cell_type": "code",
   "execution_count": 30,
   "metadata": {},
   "outputs": [
    {
     "data": {
      "text/plain": [
       "Index(['Dates', 'Category', 'Descript', 'DayOfWeek', 'PdDistrict',\n",
       "       'Resolution', 'Address', 'X', 'Y', 'Hour', 'Month', 'Year', 'day',\n",
       "       'count_days'],\n",
       "      dtype='object')"
      ]
     },
     "execution_count": 30,
     "metadata": {},
     "output_type": "execute_result"
    }
   ],
   "source": [
    "df.columns"
   ]
  },
  {
   "cell_type": "code",
   "execution_count": 31,
   "metadata": {},
   "outputs": [],
   "source": [
    "data = df.drop(['Descript','DayOfWeek', 'Resolution' , 'Address' , 'Year' , 'Dates' ], axis=1)"
   ]
  },
  {
   "cell_type": "code",
   "execution_count": 32,
   "metadata": {},
   "outputs": [
    {
     "data": {
      "text/plain": [
       "(815600, 8)"
      ]
     },
     "execution_count": 32,
     "metadata": {},
     "output_type": "execute_result"
    }
   ],
   "source": [
    "data.shape"
   ]
  },
  {
   "cell_type": "code",
   "execution_count": 33,
   "metadata": {},
   "outputs": [
    {
     "data": {
      "application/vnd.microsoft.datawrangler.viewer.v0+json": {
       "columns": [
        {
         "name": "index",
         "rawType": "int64",
         "type": "integer"
        },
        {
         "name": "Category",
         "rawType": "int64",
         "type": "integer"
        },
        {
         "name": "PdDistrict",
         "rawType": "int64",
         "type": "integer"
        },
        {
         "name": "X",
         "rawType": "float64",
         "type": "float"
        },
        {
         "name": "Y",
         "rawType": "float64",
         "type": "float"
        },
        {
         "name": "Hour",
         "rawType": "float64",
         "type": "float"
        },
        {
         "name": "Month",
         "rawType": "float64",
         "type": "float"
        },
        {
         "name": "day",
         "rawType": "float64",
         "type": "float"
        },
        {
         "name": "count_days",
         "rawType": "float64",
         "type": "float"
        }
       ],
       "conversionMethod": "pd.DataFrame",
       "ref": "45e303c7-ab54-4667-a471-1a2660ece985",
       "rows": [
        [
         "0",
         "37",
         "4",
         "-0.4117896418757295",
         "0.27943948102296845",
         "1.4620442411706789",
         "-0.41831030499348193",
         "-0.2938571102908617",
         "1.698713502680704"
        ],
        [
         "1",
         "21",
         "4",
         "-0.4117896418757295",
         "0.27943948102296845",
         "1.4620442411706789",
         "-0.41831030499348193",
         "-0.2938571102908617",
         "1.698713502680704"
        ],
        [
         "2",
         "21",
         "4",
         "-0.3296826767957825",
         "1.3513710723586418",
         "1.4620442411706789",
         "-0.41831030499348193",
         "-0.2938571102908617",
         "1.698713502680704"
        ],
        [
         "3",
         "16",
         "4",
         "-0.4710689192394496",
         "1.3704012480619818",
         "1.4620442411706789",
         "-0.41831030499348193",
         "-0.2938571102908617",
         "1.698713502680704"
        ],
        [
         "4",
         "16",
         "5",
         "-1.101770493915609",
         "0.1524878344342208",
         "1.4620442411706789",
         "-0.41831030499348193",
         "-0.2938571102908617",
         "1.698713502680704"
        ]
       ],
       "shape": {
        "columns": 8,
        "rows": 5
       }
      },
      "text/html": [
       "<div>\n",
       "<style scoped>\n",
       "    .dataframe tbody tr th:only-of-type {\n",
       "        vertical-align: middle;\n",
       "    }\n",
       "\n",
       "    .dataframe tbody tr th {\n",
       "        vertical-align: top;\n",
       "    }\n",
       "\n",
       "    .dataframe thead th {\n",
       "        text-align: right;\n",
       "    }\n",
       "</style>\n",
       "<table border=\"1\" class=\"dataframe\">\n",
       "  <thead>\n",
       "    <tr style=\"text-align: right;\">\n",
       "      <th></th>\n",
       "      <th>Category</th>\n",
       "      <th>PdDistrict</th>\n",
       "      <th>X</th>\n",
       "      <th>Y</th>\n",
       "      <th>Hour</th>\n",
       "      <th>Month</th>\n",
       "      <th>day</th>\n",
       "      <th>count_days</th>\n",
       "    </tr>\n",
       "  </thead>\n",
       "  <tbody>\n",
       "    <tr>\n",
       "      <th>0</th>\n",
       "      <td>37</td>\n",
       "      <td>4</td>\n",
       "      <td>-0.411790</td>\n",
       "      <td>0.279439</td>\n",
       "      <td>1.462044</td>\n",
       "      <td>-0.41831</td>\n",
       "      <td>-0.293857</td>\n",
       "      <td>1.698714</td>\n",
       "    </tr>\n",
       "    <tr>\n",
       "      <th>1</th>\n",
       "      <td>21</td>\n",
       "      <td>4</td>\n",
       "      <td>-0.411790</td>\n",
       "      <td>0.279439</td>\n",
       "      <td>1.462044</td>\n",
       "      <td>-0.41831</td>\n",
       "      <td>-0.293857</td>\n",
       "      <td>1.698714</td>\n",
       "    </tr>\n",
       "    <tr>\n",
       "      <th>2</th>\n",
       "      <td>21</td>\n",
       "      <td>4</td>\n",
       "      <td>-0.329683</td>\n",
       "      <td>1.351371</td>\n",
       "      <td>1.462044</td>\n",
       "      <td>-0.41831</td>\n",
       "      <td>-0.293857</td>\n",
       "      <td>1.698714</td>\n",
       "    </tr>\n",
       "    <tr>\n",
       "      <th>3</th>\n",
       "      <td>16</td>\n",
       "      <td>4</td>\n",
       "      <td>-0.471069</td>\n",
       "      <td>1.370401</td>\n",
       "      <td>1.462044</td>\n",
       "      <td>-0.41831</td>\n",
       "      <td>-0.293857</td>\n",
       "      <td>1.698714</td>\n",
       "    </tr>\n",
       "    <tr>\n",
       "      <th>4</th>\n",
       "      <td>16</td>\n",
       "      <td>5</td>\n",
       "      <td>-1.101770</td>\n",
       "      <td>0.152488</td>\n",
       "      <td>1.462044</td>\n",
       "      <td>-0.41831</td>\n",
       "      <td>-0.293857</td>\n",
       "      <td>1.698714</td>\n",
       "    </tr>\n",
       "  </tbody>\n",
       "</table>\n",
       "</div>"
      ],
      "text/plain": [
       "   Category  PdDistrict         X         Y      Hour    Month       day  \\\n",
       "0        37           4 -0.411790  0.279439  1.462044 -0.41831 -0.293857   \n",
       "1        21           4 -0.411790  0.279439  1.462044 -0.41831 -0.293857   \n",
       "2        21           4 -0.329683  1.351371  1.462044 -0.41831 -0.293857   \n",
       "3        16           4 -0.471069  1.370401  1.462044 -0.41831 -0.293857   \n",
       "4        16           5 -1.101770  0.152488  1.462044 -0.41831 -0.293857   \n",
       "\n",
       "   count_days  \n",
       "0    1.698714  \n",
       "1    1.698714  \n",
       "2    1.698714  \n",
       "3    1.698714  \n",
       "4    1.698714  "
      ]
     },
     "execution_count": 33,
     "metadata": {},
     "output_type": "execute_result"
    }
   ],
   "source": [
    "data.head()"
   ]
  },
  {
   "cell_type": "code",
   "execution_count": 34,
   "metadata": {},
   "outputs": [],
   "source": [
    "data.to_csv(\"../data/preprocessed_data.csv\", index=False)"
   ]
  }
 ],
 "metadata": {
  "kernelspec": {
   "display_name": "Python 3",
   "language": "python",
   "name": "python3"
  },
  "language_info": {
   "codemirror_mode": {
    "name": "ipython",
    "version": 3
   },
   "file_extension": ".py",
   "mimetype": "text/x-python",
   "name": "python",
   "nbconvert_exporter": "python",
   "pygments_lexer": "ipython3",
   "version": "3.12.4"
  }
 },
 "nbformat": 4,
 "nbformat_minor": 2
}
