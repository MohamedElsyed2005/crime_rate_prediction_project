{
 "cells": [
  {
   "cell_type": "code",
   "execution_count": 6,
   "id": "dbd7d80c",
   "metadata": {},
   "outputs": [],
   "source": [
    "import pandas as pd\n",
    "from sklearn.preprocessing import OneHotEncoder, MinMaxScaler\n",
    "from sklearn.compose import ColumnTransformer\n",
    "from sklearn.pipeline import Pipeline\n",
    "from sklearn.impute import SimpleImputer\n",
    "import joblib"
   ]
  },
  {
   "cell_type": "code",
   "execution_count": 7,
   "id": "a682d3bf",
   "metadata": {},
   "outputs": [],
   "source": [
    "# Load data\n",
    "df = pd.read_csv(\"../data/train.csv\")"
   ]
  },
  {
   "cell_type": "code",
   "execution_count": 8,
   "id": "3cdcecf2",
   "metadata": {},
   "outputs": [],
   "source": [
    "# Date extraction\n",
    "df['Dates'] = pd.to_datetime(df['Dates'])\n",
    "df['Hour'] = df['Dates'].dt.hour\n",
    "df['Day'] = df['Dates'].dt.day\n",
    "df['Month'] = df['Dates'].dt.month\n",
    "df['Weekday'] = df['Dates'].dt.weekday"
   ]
  },
  {
   "cell_type": "code",
   "execution_count": 9,
   "id": "886bff0a",
   "metadata": {},
   "outputs": [],
   "source": [
    "# Selecting columns\n",
    "categorical_cols = ['DayOfWeek', 'PdDistrict', 'Resolution']\n",
    "numeric_cols = ['X', 'Y', 'Hour', 'Day', 'Month', 'Weekday']"
   ]
  },
  {
   "cell_type": "code",
   "execution_count": 10,
   "id": "4949d6f0",
   "metadata": {},
   "outputs": [],
   "source": [
    "# Defining Column Transformer\n",
    "preprocessor = ColumnTransformer(\n",
    "    transformers=[\n",
    "        ('cat', OneHotEncoder(drop='first'), categorical_cols),\n",
    "        ('num', MinMaxScaler(), numeric_cols)\n",
    "    ]\n",
    ")"
   ]
  },
  {
   "cell_type": "code",
   "execution_count": 11,
   "id": "2c2d0694",
   "metadata": {},
   "outputs": [],
   "source": [
    "# Creating pipeline\n",
    "pipeline = Pipeline([\n",
    "    ('preprocessor', preprocessor)\n",
    "])"
   ]
  },
  {
   "cell_type": "code",
   "execution_count": 12,
   "id": "b67e652d",
   "metadata": {},
   "outputs": [],
   "source": [
    "# Fit and transform data\n",
    "features_scaled = pipeline.fit_transform(df)"
   ]
  },
  {
   "cell_type": "code",
   "execution_count": 13,
   "id": "2ec9e7c4",
   "metadata": {},
   "outputs": [
    {
     "data": {
      "text/plain": [
       "['../models/preprocessing_pipeline.joblib']"
      ]
     },
     "execution_count": 13,
     "metadata": {},
     "output_type": "execute_result"
    }
   ],
   "source": [
    "# Saving preprocessed data\n",
    "preprocessed_df = pd.DataFrame(features_scaled)\n",
    "preprocessed_df.to_csv(\"../data/preprocessed_data.csv\", index=False)\n",
    "\n",
    "# Saving the pipeline\n",
    "joblib.dump(pipeline, '../models/preprocessing_pipeline.joblib')"
   ]
  }
 ],
 "metadata": {
  "kernelspec": {
   "display_name": "Python 3",
   "language": "python",
   "name": "python3"
  },
  "language_info": {
   "codemirror_mode": {
    "name": "ipython",
    "version": 3
   },
   "file_extension": ".py",
   "mimetype": "text/x-python",
   "name": "python",
   "nbconvert_exporter": "python",
   "pygments_lexer": "ipython3",
   "version": "3.12.4"
  }
 },
 "nbformat": 4,
 "nbformat_minor": 5
}
