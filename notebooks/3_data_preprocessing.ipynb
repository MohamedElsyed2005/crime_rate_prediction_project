{
 "cells": [
  {
   "cell_type": "code",
   "execution_count": 10,
   "id": "dbd7d80c",
   "metadata": {},
   "outputs": [],
   "source": [
    "import pandas as pd\n",
    "from sklearn.preprocessing import OneHotEncoder, MinMaxScaler\n",
    "from datetime import datetime\n",
    "\n",
    "\n",
    "df = pd.read_csv(\"../data/train.csv\")"
   ]
  },
  {
   "cell_type": "code",
   "execution_count": 11,
   "id": "3cdcecf2",
   "metadata": {},
   "outputs": [],
   "source": [
    "df['Dates'] = pd.to_datetime(df['Dates'])\n",
    "df['Hour'] = df['Dates'].dt.hour\n",
    "df['Day'] = df['Dates'].dt.day\n",
    "df['Month'] = df['Dates'].dt.month\n",
    "df['Weekday'] = df['Dates'].dt.weekday\n",
    "#الاجازه يوم الاتنين "
   ]
  },
  {
   "cell_type": "code",
   "execution_count": 12,
   "id": "886bff0a",
   "metadata": {},
   "outputs": [],
   "source": [
    "categorical_cols = ['DayOfWeek', 'PdDistrict', 'Resolution']\n",
    "df_encoded = pd.get_dummies(df[categorical_cols], drop_first=True)\n",
    "#تحويل الاعمده النصيه لارقام "
   ]
  },
  {
   "cell_type": "code",
   "execution_count": null,
   "id": "4949d6f0",
   "metadata": {},
   "outputs": [],
   "source": [
    "features = pd.concat([\n",
    "    df[['X', 'Y', 'Hour', 'Day', 'Month', 'Weekday']],\n",
    "    df_encoded\n",
    "], axis=1)\n",
    "\n",
    "#بنعمل دمج لاعمدة"
   ]
  },
  {
   "cell_type": "code",
   "execution_count": null,
   "id": "2c2d0694",
   "metadata": {},
   "outputs": [],
   "source": [
    "scaler = MinMaxScaler()\n",
    "features_scaled = pd.DataFrame(scaler.fit_transform(features), columns=features.columns)\n",
    "#عملنا scaling للبيانات \n",
    "#علشان تقبي في interval 0-1"
   ]
  },
  {
   "cell_type": "code",
   "execution_count": 15,
   "id": "b67e652d",
   "metadata": {},
   "outputs": [
    {
     "name": "stdout",
     "output_type": "stream",
     "text": [
      " Data preprocessing complete. File saved as 'data/preprocessed_data.csv'\n"
     ]
    }
   ],
   "source": [
    "features_scaled.to_csv(\"../data/preprocessed_data.csv\", index=False)\n",
    "print(\" Data preprocessing complete. File saved as 'data/preprocessed_data.csv'\")"
   ]
  }
 ],
 "metadata": {
  "kernelspec": {
   "display_name": "Python 3",
   "language": "python",
   "name": "python3"
  },
  "language_info": {
   "codemirror_mode": {
    "name": "ipython",
    "version": 3
   },
   "file_extension": ".py",
   "mimetype": "text/x-python",
   "name": "python",
   "nbconvert_exporter": "python",
   "pygments_lexer": "ipython3",
   "version": "3.13.2"
  }
 },
 "nbformat": 4,
 "nbformat_minor": 5
}
