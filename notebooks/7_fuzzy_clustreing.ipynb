{
 "cells": [
  {
   "cell_type": "code",
   "execution_count": null,
   "metadata": {},
   "outputs": [],
   "source": [
    "!pip install fuzzy-c-means"
   ]
  },
  {
   "cell_type": "code",
   "execution_count": 1,
   "metadata": {},
   "outputs": [],
   "source": [
    "import os\n",
    "import pandas as pd\n",
    "import numpy as np\n",
    "from sklearn.preprocessing import StandardScaler\n",
    "from sklearn.preprocessing import LabelEncoder\n",
    "from sklearn_extra.cluster import KMedoids\n",
    "from sklearn.metrics import silhouette_score\n",
    "from sklearn.preprocessing import StandardScaler\n",
    "from sklearn.model_selection import train_test_split\n",
    "from sklearn.ensemble import RandomForestClassifier\n",
    "from sklearn.metrics import classification_report, accuracy_score"
   ]
  },
  {
   "cell_type": "code",
   "execution_count": 2,
   "metadata": {},
   "outputs": [],
   "source": [
    "data = pd.read_csv(\"../data/preprocessed_data.csv\")"
   ]
  },
  {
   "cell_type": "code",
   "execution_count": 3,
   "metadata": {},
   "outputs": [],
   "source": [
    "from skfuzzy import cmeans"
   ]
  },
  {
   "cell_type": "code",
   "execution_count": 4,
   "metadata": {},
   "outputs": [],
   "source": [
    "def cluster_data(df, features=None, k_range=range(2, 11), max_samples=10000, verbose=True):\n",
    "    \n",
    "    # Sample of Data\n",
    "    sample_size = min(len(df), max_samples)\n",
    "    samples = df.sample(n=sample_size)  \n",
    "    \n",
    "    # Search for best K\n",
    "    scores = []\n",
    "    labels_dict = {}\n",
    "    \n",
    "    # Loop through k_range\n",
    "    for k in k_range:\n",
    "        \n",
    "        # Fuzzy C-Means clustering\n",
    "        cntr, u, u0, d, jm, p, fpc = cmeans(samples.values.T, k, 2, error=0.005, maxiter=1000, init=None)\n",
    "        \n",
    "        # Fuzzy labels (taking the highest membership value for each point)\n",
    "        labels = np.argmax(u, axis=0)\n",
    "        labels_dict[k] = labels\n",
    "        \n",
    "        # Silhouette score\n",
    "        score = silhouette_score(samples, labels)\n",
    "        scores.append(score)\n",
    "    \n",
    "    # Find optimal k\n",
    "    best_k = k_range[scores.index(max(scores))]\n",
    "\n",
    "    df_clustered = df.copy()\n",
    "\n",
    "    # Add fuzzy cluster column to data\n",
    "    df_clustered.loc[samples.index, 'fuzzy_cluster'] = labels_dict[best_k]\n",
    "    \n",
    "    # Get the best fuzzy model (for assigning the rest of the data)\n",
    "    cntr_best, u_best, u0_best, d_best, jm_best, p_best, fpc_best = cmeans(samples.values.T, best_k, 2, error=0.005, maxiter=1000, init=None)\n",
    "    \n",
    "    if len(df_clustered) > sample_size:\n",
    "        # Assign remaining points to nearest fuzzy cluster\n",
    "        remaining_indices = df_clustered.index.difference(samples.index)\n",
    "        remaining_data = df.loc[remaining_indices]\n",
    "        \n",
    "        # Predict fuzzy clusters for remaining points (based on the highest membership)\n",
    "        remaining_u = np.argmax(cmeans(remaining_data.values.T, best_k, 2, error=0.005, maxiter=1000, init=None)[1], axis=0)\n",
    "        df_clustered.loc[remaining_indices, 'fuzzy_cluster'] = remaining_u\n",
    "    \n",
    "    return df_clustered, best_k, scores"
   ]
  },
  {
   "cell_type": "code",
   "execution_count": 5,
   "metadata": {},
   "outputs": [],
   "source": [
    "X = data.drop(columns=['Category'])  # Numerical Data\n",
    "Y = data['Category']\n",
    "\n",
    "df_clustered, best_k, scores = cluster_data(X)  "
   ]
  },
  {
   "cell_type": "code",
   "execution_count": 8,
   "metadata": {},
   "outputs": [
    {
     "data": {
      "text/plain": [
       "Index(['DayOfWeek', 'PdDistrict', 'X', 'Y', 'Day', 'Month', 'Year', 'Hour',\n",
       "       'Minute', 'Block', 'fuzzy_cluster', 'Category'],\n",
       "      dtype='object')"
      ]
     },
     "execution_count": 8,
     "metadata": {},
     "output_type": "execute_result"
    }
   ],
   "source": [
    "df_clustered[\"Category\"]=Y\n",
    "df_clustered.columns"
   ]
  },
  {
   "cell_type": "code",
   "execution_count": 10,
   "metadata": {},
   "outputs": [
    {
     "data": {
      "text/plain": [
       "(878049, 12)"
      ]
     },
     "execution_count": 10,
     "metadata": {},
     "output_type": "execute_result"
    }
   ],
   "source": [
    "df_clustered.shape"
   ]
  },
  {
   "cell_type": "code",
   "execution_count": 9,
   "metadata": {},
   "outputs": [],
   "source": [
    "df_clustered.to_csv(\"../data/Fuzzy_data.csv\", index=False)"
   ]
  }
 ],
 "metadata": {
  "kernelspec": {
   "display_name": "base",
   "language": "python",
   "name": "python3"
  },
  "language_info": {
   "codemirror_mode": {
    "name": "ipython",
    "version": 3
   },
   "file_extension": ".py",
   "mimetype": "text/x-python",
   "name": "python",
   "nbconvert_exporter": "python",
   "pygments_lexer": "ipython3",
   "version": "3.12.3"
  }
 },
 "nbformat": 4,
 "nbformat_minor": 2
}
