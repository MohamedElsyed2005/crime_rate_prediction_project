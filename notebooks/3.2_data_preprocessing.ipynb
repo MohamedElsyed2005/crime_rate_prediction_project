{
 "cells": [
  {
   "cell_type": "markdown",
   "metadata": {},
   "source": [
    "## Import and Read-Data"
   ]
  },
  {
   "cell_type": "code",
   "execution_count": 49,
   "metadata": {},
   "outputs": [],
   "source": [
    "from sklearn.preprocessing import StandardScaler\n",
    "from sklearn.preprocessing import LabelEncoder\n",
    "import numpy as np\n",
    "import pandas as pd"
   ]
  },
  {
   "cell_type": "code",
   "execution_count": 50,
   "metadata": {},
   "outputs": [],
   "source": [
    "df = pd.read_csv(\"../data/train.csv\")"
   ]
  },
  {
   "cell_type": "markdown",
   "metadata": {},
   "source": [
    "## Get Date-Cols From Dates Attribute"
   ]
  },
  {
   "cell_type": "code",
   "execution_count": 51,
   "metadata": {},
   "outputs": [],
   "source": [
    "df['Dates'] = pd.to_datetime(df['Dates'])\n",
    "df['Hour'] = df['Dates'].dt.hour\n",
    "df['Month'] = df['Dates'].dt.month\n",
    "df['Year'] = df['Dates'].dt.year\n",
    "df['day'] = df['Dates'].dt.day\n",
    "df['count_days'] = (df['Dates'] - df['Dates'].min()).apply(lambda x: x.days)"
   ]
  },
  {
   "cell_type": "code",
   "execution_count": 52,
   "metadata": {},
   "outputs": [
    {
     "data": {
      "text/plain": [
       "(878049, 14)"
      ]
     },
     "execution_count": 52,
     "metadata": {},
     "output_type": "execute_result"
    }
   ],
   "source": [
    "df.shape"
   ]
  },
  {
   "cell_type": "markdown",
   "metadata": {},
   "source": [
    "## Duplicates and Null's Handling"
   ]
  },
  {
   "cell_type": "code",
   "execution_count": 53,
   "metadata": {},
   "outputs": [
    {
     "data": {
      "text/plain": [
       "2323"
      ]
     },
     "execution_count": 53,
     "metadata": {},
     "output_type": "execute_result"
    }
   ],
   "source": [
    "df.duplicated().sum()"
   ]
  },
  {
   "cell_type": "code",
   "execution_count": 54,
   "metadata": {},
   "outputs": [],
   "source": [
    "df.drop_duplicates(inplace = True)"
   ]
  },
  {
   "cell_type": "code",
   "execution_count": 55,
   "metadata": {},
   "outputs": [],
   "source": [
    "Q1_X = df['X'].quantile(0.25)\n",
    "Q3_X = df['X'].quantile(0.75)\n",
    "IQR_X = Q3_X - Q1_X\n",
    "\n",
    "Q1_Y = df['Y'].quantile(0.25)\n",
    "Q3_Y = df['Y'].quantile(0.75)\n",
    "IQR_Y = Q3_Y - Q1_Y\n",
    "\n",
    "df = df[(df['X'] >= Q1_X - 1.5 * IQR_X) & (df['X'] <= Q3_X + 1.5 * IQR_X)]\n",
    "\n",
    "df = df[(df['Y'] >= Q1_Y - 1.5 * IQR_Y) & (df['Y'] <= Q3_Y + 1.5 * IQR_Y)]"
   ]
  },
  {
   "cell_type": "markdown",
   "metadata": {},
   "source": [
    "## Scaling and Encoding"
   ]
  },
  {
   "cell_type": "code",
   "execution_count": 56,
   "metadata": {},
   "outputs": [
    {
     "name": "stdout",
     "output_type": "stream",
     "text": [
      "                Dates        Category                      Descript  \\\n",
      "0 2015-05-13 23:53:00        WARRANTS                WARRANT ARREST   \n",
      "1 2015-05-13 23:53:00  OTHER OFFENSES      TRAFFIC VIOLATION ARREST   \n",
      "2 2015-05-13 23:33:00  OTHER OFFENSES      TRAFFIC VIOLATION ARREST   \n",
      "3 2015-05-13 23:30:00   LARCENY/THEFT  GRAND THEFT FROM LOCKED AUTO   \n",
      "4 2015-05-13 23:30:00   LARCENY/THEFT  GRAND THEFT FROM LOCKED AUTO   \n",
      "\n",
      "   DayOfWeek PdDistrict      Resolution                    Address         X  \\\n",
      "0  Wednesday   NORTHERN  ARREST, BOOKED         OAK ST / LAGUNA ST -0.411790   \n",
      "1  Wednesday   NORTHERN  ARREST, BOOKED         OAK ST / LAGUNA ST -0.411790   \n",
      "2  Wednesday   NORTHERN  ARREST, BOOKED  VANNESS AV / GREENWICH ST -0.329683   \n",
      "3  Wednesday   NORTHERN            NONE   1500 Block of LOMBARD ST -0.471069   \n",
      "4  Wednesday       PARK            NONE  100 Block of BRODERICK ST -1.101770   \n",
      "\n",
      "          Y      Hour    Month      Year       day  count_days  \n",
      "0  0.279439  1.462044 -0.41831  1.733397 -0.293857    1.698714  \n",
      "1  0.279439  1.462044 -0.41831  1.733397 -0.293857    1.698714  \n",
      "2  1.351371  1.462044 -0.41831  1.733397 -0.293857    1.698714  \n",
      "3  1.370401  1.462044 -0.41831  1.733397 -0.293857    1.698714  \n",
      "4  0.152488  1.462044 -0.41831  1.733397 -0.293857    1.698714  \n"
     ]
    }
   ],
   "source": [
    "numeric_cols = df.select_dtypes(include=['number']).columns\n",
    "\n",
    "scaler = StandardScaler()\n",
    "\n",
    "df[numeric_cols] = scaler.fit_transform(df[numeric_cols])\n",
    "\n",
    "print(df.head())\n",
    "\n",
    "category_encoder = LabelEncoder()\n",
    "district_encoder = LabelEncoder()\n",
    "\n",
    "df['Category'] = category_encoder.fit_transform(df['Category'])\n",
    "df['PdDistrict'] = district_encoder.fit_transform(df['PdDistrict'])"
   ]
  },
  {
   "cell_type": "code",
   "execution_count": 57,
   "metadata": {},
   "outputs": [
    {
     "data": {
      "text/plain": [
       "Index(['Dates', 'Category', 'Descript', 'DayOfWeek', 'PdDistrict',\n",
       "       'Resolution', 'Address', 'X', 'Y', 'Hour', 'Month', 'Year', 'day',\n",
       "       'count_days'],\n",
       "      dtype='object')"
      ]
     },
     "execution_count": 57,
     "metadata": {},
     "output_type": "execute_result"
    }
   ],
   "source": [
    "df.columns"
   ]
  },
  {
   "cell_type": "code",
   "execution_count": 46,
   "metadata": {},
   "outputs": [],
   "source": [
    "data = df.drop(['Descript','PdDistrict_2','Category_2', 'DayOfWeek', 'Resolution' , 'Address' , 'Year' , 'Dates' ], axis=1)"
   ]
  },
  {
   "cell_type": "code",
   "execution_count": 58,
   "metadata": {},
   "outputs": [
    {
     "data": {
      "text/plain": [
       "(815600, 8)"
      ]
     },
     "execution_count": 58,
     "metadata": {},
     "output_type": "execute_result"
    }
   ],
   "source": [
    "data.shape"
   ]
  },
  {
   "cell_type": "code",
   "execution_count": 59,
   "metadata": {},
   "outputs": [
    {
     "data": {
      "text/html": [
       "<div>\n",
       "<style scoped>\n",
       "    .dataframe tbody tr th:only-of-type {\n",
       "        vertical-align: middle;\n",
       "    }\n",
       "\n",
       "    .dataframe tbody tr th {\n",
       "        vertical-align: top;\n",
       "    }\n",
       "\n",
       "    .dataframe thead th {\n",
       "        text-align: right;\n",
       "    }\n",
       "</style>\n",
       "<table border=\"1\" class=\"dataframe\">\n",
       "  <thead>\n",
       "    <tr style=\"text-align: right;\">\n",
       "      <th></th>\n",
       "      <th>Category</th>\n",
       "      <th>PdDistrict</th>\n",
       "      <th>X</th>\n",
       "      <th>Y</th>\n",
       "      <th>Hour</th>\n",
       "      <th>Month</th>\n",
       "      <th>day</th>\n",
       "      <th>n_days</th>\n",
       "    </tr>\n",
       "  </thead>\n",
       "  <tbody>\n",
       "    <tr>\n",
       "      <th>0</th>\n",
       "      <td>37</td>\n",
       "      <td>4</td>\n",
       "      <td>-0.411790</td>\n",
       "      <td>0.279439</td>\n",
       "      <td>1.462044</td>\n",
       "      <td>-0.41831</td>\n",
       "      <td>-0.293857</td>\n",
       "      <td>1.698714</td>\n",
       "    </tr>\n",
       "    <tr>\n",
       "      <th>1</th>\n",
       "      <td>21</td>\n",
       "      <td>4</td>\n",
       "      <td>-0.411790</td>\n",
       "      <td>0.279439</td>\n",
       "      <td>1.462044</td>\n",
       "      <td>-0.41831</td>\n",
       "      <td>-0.293857</td>\n",
       "      <td>1.698714</td>\n",
       "    </tr>\n",
       "    <tr>\n",
       "      <th>2</th>\n",
       "      <td>21</td>\n",
       "      <td>4</td>\n",
       "      <td>-0.329683</td>\n",
       "      <td>1.351371</td>\n",
       "      <td>1.462044</td>\n",
       "      <td>-0.41831</td>\n",
       "      <td>-0.293857</td>\n",
       "      <td>1.698714</td>\n",
       "    </tr>\n",
       "    <tr>\n",
       "      <th>3</th>\n",
       "      <td>16</td>\n",
       "      <td>4</td>\n",
       "      <td>-0.471069</td>\n",
       "      <td>1.370401</td>\n",
       "      <td>1.462044</td>\n",
       "      <td>-0.41831</td>\n",
       "      <td>-0.293857</td>\n",
       "      <td>1.698714</td>\n",
       "    </tr>\n",
       "    <tr>\n",
       "      <th>4</th>\n",
       "      <td>16</td>\n",
       "      <td>5</td>\n",
       "      <td>-1.101770</td>\n",
       "      <td>0.152488</td>\n",
       "      <td>1.462044</td>\n",
       "      <td>-0.41831</td>\n",
       "      <td>-0.293857</td>\n",
       "      <td>1.698714</td>\n",
       "    </tr>\n",
       "  </tbody>\n",
       "</table>\n",
       "</div>"
      ],
      "text/plain": [
       "   Category  PdDistrict         X         Y      Hour    Month       day  \\\n",
       "0        37           4 -0.411790  0.279439  1.462044 -0.41831 -0.293857   \n",
       "1        21           4 -0.411790  0.279439  1.462044 -0.41831 -0.293857   \n",
       "2        21           4 -0.329683  1.351371  1.462044 -0.41831 -0.293857   \n",
       "3        16           4 -0.471069  1.370401  1.462044 -0.41831 -0.293857   \n",
       "4        16           5 -1.101770  0.152488  1.462044 -0.41831 -0.293857   \n",
       "\n",
       "     n_days  \n",
       "0  1.698714  \n",
       "1  1.698714  \n",
       "2  1.698714  \n",
       "3  1.698714  \n",
       "4  1.698714  "
      ]
     },
     "execution_count": 59,
     "metadata": {},
     "output_type": "execute_result"
    }
   ],
   "source": [
    "data.head()"
   ]
  },
  {
   "cell_type": "code",
   "execution_count": 60,
   "metadata": {},
   "outputs": [],
   "source": [
    "data.to_csv(\"../data/preprocessed_data.csv\", index=False)"
   ]
  }
 ],
 "metadata": {
  "kernelspec": {
   "display_name": "base",
   "language": "python",
   "name": "python3"
  },
  "language_info": {
   "codemirror_mode": {
    "name": "ipython",
    "version": 3
   },
   "file_extension": ".py",
   "mimetype": "text/x-python",
   "name": "python",
   "nbconvert_exporter": "python",
   "pygments_lexer": "ipython3",
   "version": "3.12.3"
  }
 },
 "nbformat": 4,
 "nbformat_minor": 2
}
